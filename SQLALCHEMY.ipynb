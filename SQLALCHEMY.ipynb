{
  "nbformat": 4,
  "nbformat_minor": 0,
  "metadata": {
    "colab": {
      "provenance": [],
      "authorship_tag": "ABX9TyNkDGxkFujJZ0QEVLjRYxHk",
      "include_colab_link": true
    },
    "kernelspec": {
      "name": "python3",
      "display_name": "Python 3"
    },
    "language_info": {
      "name": "python"
    }
  },
  "cells": [
    {
      "cell_type": "markdown",
      "metadata": {
        "id": "view-in-github",
        "colab_type": "text"
      },
      "source": [
        "<a href=\"https://colab.research.google.com/github/mazby45/mazzz/blob/main/SQLALCHEMY.ipynb\" target=\"_parent\"><img src=\"https://colab.research.google.com/assets/colab-badge.svg\" alt=\"Open In Colab\"/></a>"
      ]
    },
    {
      "cell_type": "code",
      "execution_count": null,
      "metadata": {
        "id": "wt4GRPgpNVUk"
      },
      "outputs": [],
      "source": [
        "import sqlite3, sqlalchemy\n",
        "from sqlalchemy import Table, Column, Integer, String, ForeignKey, MetaData, create_engine, text, inspect,Date,Float\n",
        "from IPython.display import Markdown, display"
      ]
    },
    {
      "cell_type": "code",
      "source": [
        "#Créer une connexion à la base de données jardin.db, si elle existe pas elle est créer\n",
        "engine=create_engine('sqlite:///jardin.db')"
      ],
      "metadata": {
        "id": "q0W5VmyoOfni"
      },
      "execution_count": null,
      "outputs": []
    },
    {
      "cell_type": "code",
      "source": [
        "from sqlalchemy.sql.sqltypes import Boolean\n",
        "meta = MetaData()\n",
        "#creation de la Table clients\n",
        "clients  = Table(\n",
        "   'clients', meta,\n",
        "   Column('Id_client', Integer, primary_key=True),\n",
        "   Column('Nom', String),\n",
        "   Column('Prenom', String),\n",
        "   Column('Fidelite', Boolean)\n",
        ")\n",
        "meta.create_all(engine)"
      ],
      "metadata": {
        "id": "TE1qv7eUSBjB"
      },
      "execution_count": null,
      "outputs": []
    },
    {
      "cell_type": "code",
      "source": [
        "#creation de la Table produits\n",
        "\n",
        "produits  = Table(\n",
        "   'produits', meta,\n",
        "   Column('Id_produit', Integer, primary_key=True),\n",
        "   Column('Designation', String),\n",
        "   Column('Prix', Float)\n",
        ")\n",
        "meta.create_all(engine)"
      ],
      "metadata": {
        "id": "gE4ywsIPRKBi"
      },
      "execution_count": null,
      "outputs": []
    },
    {
      "cell_type": "code",
      "source": [
        "\n",
        "#creation de la Table ventes\n",
        "ventes  = Table(\n",
        "   'ventes', meta,\n",
        "   Column('Numero_vente', Integer, primary_key=True),\n",
        "   Column('Date_vente', Date),\n",
        "   Column('Id_produit', Integer, ForeignKey(\"produits.Id_produit\")),\n",
        "   Column('Id_client', Integer, ForeignKey(\"clients.Id_client\"))\n",
        ")\n",
        "meta.create_all(engine)\n"
      ],
      "metadata": {
        "id": "PE2olvnEOs1R"
      },
      "execution_count": null,
      "outputs": []
    },
    {
      "cell_type": "code",
      "source": [
        "#verifions que les tables ont bien été crées\n",
        "inspector = inspect(engine)\n",
        "inspector.get_table_names()"
      ],
      "metadata": {
        "colab": {
          "base_uri": "https://localhost:8080/"
        },
        "id": "ATGH-QLRWVmP",
        "outputId": "8dd7d6aa-be1a-494d-ff60-29c7a362463b"
      },
      "execution_count": null,
      "outputs": [
        {
          "output_type": "execute_result",
          "data": {
            "text/plain": [
              "['clients', 'produits', 'ventes']"
            ]
          },
          "metadata": {},
          "execution_count": 6
        }
      ]
    },
    {
      "cell_type": "code",
      "source": [
        "# creons des listes de clients pour notre table clients\n",
        "liste_clients = [\n",
        "    (1, \"Balde\",\"Saliou\",True),\n",
        "    (2, \"Doe\", \"John\", True),\n",
        "    (3, \"Smith\", \"Jane\", False),\n",
        "    (4, \"Johnson\", \"Michael\", True),\n",
        "    (5, \"Williams\", \"Emily\", False),\n",
        "    (6, \"Brown\", \"David\", True)\n",
        "]"
      ],
      "metadata": {
        "id": "YC7uz9fRZqoP"
      },
      "execution_count": null,
      "outputs": []
    },
    {
      "cell_type": "code",
      "source": [
        "# creons des listes de produits pour notre table produits\n",
        "liste_produits = [\n",
        "    (1, \"Plante verte\", 19.99),\n",
        "    (2, \"Graines de fleurs\", 5.99),\n",
        "    (3, \"Terreau universel\", 9.99),\n",
        "    (4, \"Arrosoir\", 12.99),\n",
        "    (5, \"Pelle de jardin\", 14.99)\n",
        "]"
      ],
      "metadata": {
        "id": "3EKJNgA1bK9C"
      },
      "execution_count": null,
      "outputs": []
    },
    {
      "cell_type": "code",
      "source": [
        "# creons des ventes pour notre table ventes\n",
        "from datetime import date\n",
        "liste_ventes = [\n",
        "    (1, date(2023, 1, 1), 1, 1),\n",
        "    (2, date(2023, 1, 2), 2, 2),\n",
        "    (3, date(2023, 1, 3), 3, 3),\n",
        "    (4, date(2023, 1, 1), 1, 1),\n",
        "    (5, date(2023, 1, 2), 2, 2),\n",
        "    (6, date(2023, 1, 3), 3, 3)\n",
        "]"
      ],
      "metadata": {
        "id": "_mD9B_A9coSq"
      },
      "execution_count": null,
      "outputs": []
    },
    {
      "cell_type": "markdown",
      "source": [
        "Nous allons maintenant remplir nos tables avec les listes crées precedemment"
      ],
      "metadata": {
        "id": "82r0TvcOeDPb"
      }
    },
    {
      "cell_type": "code",
      "source": [
        "#remplissons notre table clients\n",
        "from sqlalchemy import insert\n",
        "with engine.connect() as connection:\n",
        "    with connection.begin() as transaction:\n",
        "        try:\n",
        "            stmt = insert(clients).values(liste_clients)\n",
        "            connection.execute(stmt)\n",
        "        except:\n",
        "            transaction.rollback()\n",
        "            raise\n",
        "        else:\n",
        "            transaction.commit()"
      ],
      "metadata": {
        "id": "o37AsDkLeByp"
      },
      "execution_count": null,
      "outputs": []
    },
    {
      "cell_type": "code",
      "source": [
        "#remplissons notre table produits\n",
        "from sqlalchemy import insert\n",
        "with engine.connect() as connection:\n",
        "    with connection.begin() as transaction:\n",
        "        try:\n",
        "            stmt = insert(produits).values(liste_produits)\n",
        "            connection.execute(stmt)\n",
        "        except:\n",
        "            transaction.rollback()\n",
        "            raise\n",
        "        else:\n",
        "            transaction.commit()"
      ],
      "metadata": {
        "id": "8cbrPpqlemqd"
      },
      "execution_count": null,
      "outputs": []
    },
    {
      "cell_type": "code",
      "source": [
        "#Créons des ventes\n",
        "from sqlalchemy import insert\n",
        "with engine.connect() as connection:\n",
        "    with connection.begin() as transaction:\n",
        "        try:\n",
        "            stmt = insert(ventes).values(liste_ventes)\n",
        "            connection.execute(stmt)\n",
        "        except:\n",
        "            transaction.rollback()\n",
        "            raise\n",
        "        else:\n",
        "            transaction.commit()"
      ],
      "metadata": {
        "id": "FAxkAQk8eyvA"
      },
      "execution_count": null,
      "outputs": []
    },
    {
      "cell_type": "code",
      "source": [
        "#verifions que les entrées ont bien été creer\n",
        "import pandas as pd\n",
        "conn = engine.connect()\n",
        "stmt = text(\"SELECT clients.Nom, clients.Prenom, SUM(produits.Prix) AS CA FROM ventes JOIN clients ON ventes.Id_client = clients.Id_client JOIN produits ON ventes.Id_produit = produits.Id_produit GROUP BY clients.Nom, clients.Prenom;\")\n",
        "#stmt contient notre requette SQL\n",
        "result = conn.execute(stmt)\n",
        "data=pd.DataFrame(result.fetchall()) #Pour obtenir le résultat de cette requête dans Python, on utilise la méthode fetchall associée à cet objet."
      ],
      "metadata": {
        "id": "5FKZxJF4fAlH"
      },
      "execution_count": null,
      "outputs": []
    },
    {
      "cell_type": "code",
      "source": [
        "#affichons le dataframe\n",
        "display(data)"
      ],
      "metadata": {
        "colab": {
          "base_uri": "https://localhost:8080/",
          "height": 143
        },
        "id": "bi8b2YvC7pzH",
        "outputId": "36ce1658-7fe8-4897-efa6-3ac3e0d17a18"
      },
      "execution_count": null,
      "outputs": [
        {
          "output_type": "display_data",
          "data": {
            "text/plain": [
              "     Nom  Prenom     CA\n",
              "0  Balde  Saliou  39.98\n",
              "1    Doe    John  11.98\n",
              "2  Smith    Jane  19.98"
            ],
            "text/html": [
              "\n",
              "  <div id=\"df-5f45f4f2-fe25-47b3-b553-3b56eef098a6\">\n",
              "    <div class=\"colab-df-container\">\n",
              "      <div>\n",
              "<style scoped>\n",
              "    .dataframe tbody tr th:only-of-type {\n",
              "        vertical-align: middle;\n",
              "    }\n",
              "\n",
              "    .dataframe tbody tr th {\n",
              "        vertical-align: top;\n",
              "    }\n",
              "\n",
              "    .dataframe thead th {\n",
              "        text-align: right;\n",
              "    }\n",
              "</style>\n",
              "<table border=\"1\" class=\"dataframe\">\n",
              "  <thead>\n",
              "    <tr style=\"text-align: right;\">\n",
              "      <th></th>\n",
              "      <th>Nom</th>\n",
              "      <th>Prenom</th>\n",
              "      <th>CA</th>\n",
              "    </tr>\n",
              "  </thead>\n",
              "  <tbody>\n",
              "    <tr>\n",
              "      <th>0</th>\n",
              "      <td>Balde</td>\n",
              "      <td>Saliou</td>\n",
              "      <td>39.98</td>\n",
              "    </tr>\n",
              "    <tr>\n",
              "      <th>1</th>\n",
              "      <td>Doe</td>\n",
              "      <td>John</td>\n",
              "      <td>11.98</td>\n",
              "    </tr>\n",
              "    <tr>\n",
              "      <th>2</th>\n",
              "      <td>Smith</td>\n",
              "      <td>Jane</td>\n",
              "      <td>19.98</td>\n",
              "    </tr>\n",
              "  </tbody>\n",
              "</table>\n",
              "</div>\n",
              "      <button class=\"colab-df-convert\" onclick=\"convertToInteractive('df-5f45f4f2-fe25-47b3-b553-3b56eef098a6')\"\n",
              "              title=\"Convert this dataframe to an interactive table.\"\n",
              "              style=\"display:none;\">\n",
              "        \n",
              "  <svg xmlns=\"http://www.w3.org/2000/svg\" height=\"24px\"viewBox=\"0 0 24 24\"\n",
              "       width=\"24px\">\n",
              "    <path d=\"M0 0h24v24H0V0z\" fill=\"none\"/>\n",
              "    <path d=\"M18.56 5.44l.94 2.06.94-2.06 2.06-.94-2.06-.94-.94-2.06-.94 2.06-2.06.94zm-11 1L8.5 8.5l.94-2.06 2.06-.94-2.06-.94L8.5 2.5l-.94 2.06-2.06.94zm10 10l.94 2.06.94-2.06 2.06-.94-2.06-.94-.94-2.06-.94 2.06-2.06.94z\"/><path d=\"M17.41 7.96l-1.37-1.37c-.4-.4-.92-.59-1.43-.59-.52 0-1.04.2-1.43.59L10.3 9.45l-7.72 7.72c-.78.78-.78 2.05 0 2.83L4 21.41c.39.39.9.59 1.41.59.51 0 1.02-.2 1.41-.59l7.78-7.78 2.81-2.81c.8-.78.8-2.07 0-2.86zM5.41 20L4 18.59l7.72-7.72 1.47 1.35L5.41 20z\"/>\n",
              "  </svg>\n",
              "      </button>\n",
              "      \n",
              "  <style>\n",
              "    .colab-df-container {\n",
              "      display:flex;\n",
              "      flex-wrap:wrap;\n",
              "      gap: 12px;\n",
              "    }\n",
              "\n",
              "    .colab-df-convert {\n",
              "      background-color: #E8F0FE;\n",
              "      border: none;\n",
              "      border-radius: 50%;\n",
              "      cursor: pointer;\n",
              "      display: none;\n",
              "      fill: #1967D2;\n",
              "      height: 32px;\n",
              "      padding: 0 0 0 0;\n",
              "      width: 32px;\n",
              "    }\n",
              "\n",
              "    .colab-df-convert:hover {\n",
              "      background-color: #E2EBFA;\n",
              "      box-shadow: 0px 1px 2px rgba(60, 64, 67, 0.3), 0px 1px 3px 1px rgba(60, 64, 67, 0.15);\n",
              "      fill: #174EA6;\n",
              "    }\n",
              "\n",
              "    [theme=dark] .colab-df-convert {\n",
              "      background-color: #3B4455;\n",
              "      fill: #D2E3FC;\n",
              "    }\n",
              "\n",
              "    [theme=dark] .colab-df-convert:hover {\n",
              "      background-color: #434B5C;\n",
              "      box-shadow: 0px 1px 3px 1px rgba(0, 0, 0, 0.15);\n",
              "      filter: drop-shadow(0px 1px 2px rgba(0, 0, 0, 0.3));\n",
              "      fill: #FFFFFF;\n",
              "    }\n",
              "  </style>\n",
              "\n",
              "      <script>\n",
              "        const buttonEl =\n",
              "          document.querySelector('#df-5f45f4f2-fe25-47b3-b553-3b56eef098a6 button.colab-df-convert');\n",
              "        buttonEl.style.display =\n",
              "          google.colab.kernel.accessAllowed ? 'block' : 'none';\n",
              "\n",
              "        async function convertToInteractive(key) {\n",
              "          const element = document.querySelector('#df-5f45f4f2-fe25-47b3-b553-3b56eef098a6');\n",
              "          const dataTable =\n",
              "            await google.colab.kernel.invokeFunction('convertToInteractive',\n",
              "                                                     [key], {});\n",
              "          if (!dataTable) return;\n",
              "\n",
              "          const docLinkHtml = 'Like what you see? Visit the ' +\n",
              "            '<a target=\"_blank\" href=https://colab.research.google.com/notebooks/data_table.ipynb>data table notebook</a>'\n",
              "            + ' to learn more about interactive tables.';\n",
              "          element.innerHTML = '';\n",
              "          dataTable['output_type'] = 'display_data';\n",
              "          await google.colab.output.renderOutput(dataTable, element);\n",
              "          const docLink = document.createElement('div');\n",
              "          docLink.innerHTML = docLinkHtml;\n",
              "          element.appendChild(docLink);\n",
              "        }\n",
              "      </script>\n",
              "    </div>\n",
              "  </div>\n",
              "  "
            ]
          },
          "metadata": {}
        }
      ]
    },
    {
      "cell_type": "markdown",
      "source": [
        "Bonus !! On peut ajouter dans notre requette SQL \"WHERE clients.Fidelite=1\" pour ne sélectionner que les clients qui sont inscris au programme de fidelité"
      ],
      "metadata": {
        "id": "KMLWHG0yAIo8"
      }
    }
  ]
}